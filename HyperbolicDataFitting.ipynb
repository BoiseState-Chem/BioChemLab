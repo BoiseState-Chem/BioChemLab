{
 "cells": [
  {
   "cell_type": "markdown",
   "metadata": {},
   "source": [
    "# Hyperbolic Curve Fitting\n",
    "\n",
    "This Python notebook can be used to fit a hyperbolic curve on any given data.\n",
    "\n",
    "## Before You Start\n",
    "\n",
    "Make sure that you are working on a copy of this notebook. Instructions on how to do so can be found [here](https://scribehow.com/shared/Copying_and_Using_a_Python_Notebook_from_GitHub__nPUb96VpS8ibc9BMFKzq1A).\n",
    "\n",
    "The data needs to be in a CSV file found in your Google Drive. Instructions on how to make a properly formatted CSV file can be found [here](https://scribehow.com/shared/Format_and_Make_a_CSV_File__FfVill-DSfG9-OUCN-Z3ug).\n",
    "\n",
    "To use this notebook, there are two types of code comments that will help guide you.\n",
    "- Comments that start with \"#\" (typically shown in green font) tell you what the lines of code right below the comment do.\n",
    "- Blocks of comments that start with \"TODO\" (typically shown in orange font) tell you what you need to change/edit in the lines of code right below the comment. The to-do items within a section of code should be addressed before running that section. **There are a total of 4 TODO items throughout this entire notebook.**\n",
    "    - Note: If a section of code does not contain a TODO comment, there is nothing that needs to be edited, and you can simply run that section."
   ]
  },
  {
   "cell_type": "code",
   "execution_count": null,
   "metadata": {},
   "outputs": [],
   "source": [
    "# Sets base path on Google Drive for CSV data.\n",
    "from google.colab import drive\n",
    "drive.mount('/content/drive')\n",
    "base_path = '/content/drive/MyDrive/'\n",
    "\n",
    "# Imports other necessary packages and functions.\n",
    "import pandas as pd\n",
    "import matplotlib.pyplot as plt\n",
    "from scipy.optimize import curve_fit\n",
    "import numpy as np"
   ]
  },
  {
   "cell_type": "code",
   "execution_count": null,
   "metadata": {},
   "outputs": [],
   "source": [
    "'''\n",
    "TODO: Change the path and/or the file name to match the location and name of your CSV file.\n",
    "  - If your CSV file is in a folder in your Google Drive, add \"folder-name/\" in front of the CSV file name.\n",
    "      Example: \"folder/file.csv\" or \"folder/subfolder/file.csv\" (include the quotation marks)\n",
    "  - The variable base_path directs the read_csv function to look for the CSV file in your Google Drive.\n",
    "    If the file is only shared with you, you need to make a copy or a shortcut of it in your Drive.\n",
    "'''\n",
    "# Reads the CSV file with the data into a data frame (table).\n",
    "data = pd.read_csv(base_path + \"file.csv\")\n",
    "\n",
    "\n",
    "'''\n",
    "TODO: Change the column labels stored in x_col and y_col to match the column labels for the dependent and\n",
    "      independent variables in your CSV file.\n",
    "'''\n",
    "# Extracts the x and y data from the data frame.\n",
    "x_col = \"x_column\"\n",
    "y_col = \"y_column\"\n",
    "hyperbolic_data = pd.concat([data[x_col], data[y_col]], axis = 1)\n",
    "\n",
    "# Makes sure all data points are numerical and drops those that are not.\n",
    "hyperbolic_data = hyperbolic_data.apply(pd.to_numeric, errors = \"coerce\")\n",
    "hyperbolic_data = hyperbolic_data.dropna()\n",
    "\n",
    "# Saves columns into a variable for easy referencing\n",
    "x_data = hyperbolic_data[x_col]\n",
    "y_data = hyperbolic_data[y_col]\n",
    "\n",
    "\n",
    "'''\n",
    "TODO: Change the labels for the axes of the graph.\n",
    "'''\n",
    "# Assigns the axes labels to variables.\n",
    "x_label = \"Independent Variable (units)\"\n",
    "y_label = \"Dependent Variable (units)\"\n",
    "\n",
    "# Graphs a scatter plot of the data points.\n",
    "plt.scatter(x_data, y_data)\n",
    "plt.xlabel(x_label)\n",
    "plt.ylabel(y_label)\n",
    "plt.show()"
   ]
  },
  {
   "cell_type": "markdown",
   "metadata": {},
   "source": [
    "## How to Fit Your Data\n",
    "\n",
    "After running the section of code above, the resulting graph shows what your data looks like as is. Now, you will fit your data to the following equation:\n",
    "$$y=\\frac{a\\times x}{b+x}$$\n",
    "\n",
    "To help the computer find a more accurate equation to describe your data, you will provide initial guesses for what the values of *a* and *b* should be. In the section of code below, you will indicate your estimates based on the following descriptions:\n",
    "- The value of *a* describes the y-value of the horizontal asymptote.\n",
    "- The value of *b* describes the x-value at half of the horizontal asymptote's y-value.\n",
    "\n",
    "This figure visualizes the above descriptions.\n",
    "\n",
    "![](Figure.png)\n",
    "\n",
    "Note: If you need to use exponents in Python (e.g., for writing scientific notation), use double asterisks (\\*\\*). For example, 2 x 10^-5 is written as 2 * (10\\*\\*-5) in Python."
   ]
  },
  {
   "cell_type": "code",
   "execution_count": null,
   "metadata": {},
   "outputs": [],
   "source": [
    "# Defines the function for a hyperbolic curve with the form y = (a * x) / (b + x).\n",
    "def hyperbolic_func(x, a, b):\n",
    "  return (a * x) / (b + x)\n",
    "\n",
    "\n",
    "'''\n",
    "TODO: Change the estimated parameters stored in the variable param_guess based on the scatter plot\n",
    "      of your data and the descriptions above. You do not have to be precise with your guesses; just a rough\n",
    "      estimate is okay.\n",
    "        Example: [5, 20] assigns an initial guess of 5 to a and 20 to b\n",
    "'''\n",
    "# Finds the best parameters for the hyperbolic function using the initial guesses in param_guess.\n",
    "# Returns the optimized parameters and their estimated covariance.\n",
    "param_guess = [-100, -100]\n",
    "param_optimized, param_covar = curve_fit(hyperbolic_func, x_data, y_data, param_guess)\n",
    "a_optimized = param_optimized[0]\n",
    "b_optimized = param_optimized[1]\n",
    "\n",
    "# Generates predicted y values of the hyperbolic function using the specified range of x values.\n",
    "# Allows the fitted function to be graphed separately from the experimental data.\n",
    "x_pred = np.linspace(min(x_data), max(x_data), 100)\n",
    "y_pred = hyperbolic_func(x_pred, a_optimized, b_optimized)\n",
    "\n",
    "# Graphs the data with the fitted hyperbolic curve.\n",
    "plt.scatter(x_data, y_data, label = \"Collected Data\")\n",
    "plt.plot(x_pred, y_pred, color = \"black\", label = \"Fitted Function\")\n",
    "plt.xlabel(x_label)\n",
    "plt.ylabel(y_label)\n",
    "plt.legend()\n",
    "plt.show()"
   ]
  },
  {
   "cell_type": "code",
   "execution_count": null,
   "metadata": {},
   "outputs": [],
   "source": [
    "# Determines the standard deviation errors of the optimized parameters.\n",
    "param_std_error = np.sqrt(np.diag(param_covar))\n",
    "\n",
    "# Prints the optimized parameters and the associated standard deviation errors.\n",
    "print(f\"The optimized value for a is {a_optimized}.\")\n",
    "print(f\"The standard deviation error for a is {param_std_error[0]}.\\n\")\n",
    "print(f\"The optimized value for b is {b_optimized}.\")\n",
    "print(f\"The standard deviation error for b is {param_std_error[1]}.\\n\")\n",
    "\n",
    "# Determines the total sum of squares of the data.\n",
    "total_sum_sq = np.sum((y_data - y_data.mean())**2)\n",
    "\n",
    "# Determines the residual sum of squares of the data and its fit.\n",
    "y_pred_data = hyperbolic_func(x_data, a_optimized, b_optimized)\n",
    "resid_sum_sq = np.sum((y_data - y_pred_data)**2)\n",
    "\n",
    "# Calculates and prints the R2 value describing the fit of the curve on the data.\n",
    "r2 = 1 - (resid_sum_sq / total_sum_sq)\n",
    "print(f\"The R2 coefficient of the hyperbolic fit is {r2:.4f}.\")"
   ]
  }
 ],
 "metadata": {
  "colab": {
   "provenance": []
  },
  "kernelspec": {
   "display_name": "Python 3",
   "language": "python",
   "name": "python3"
  },
  "language_info": {
   "codemirror_mode": {
    "name": "ipython",
    "version": 3
   },
   "file_extension": ".py",
   "mimetype": "text/x-python",
   "name": "python",
   "nbconvert_exporter": "python",
   "pygments_lexer": "ipython3"
  }
 },
 "nbformat": 4,
 "nbformat_minor": 0
}
